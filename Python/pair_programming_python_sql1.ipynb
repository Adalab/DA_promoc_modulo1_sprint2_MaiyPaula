{
 "cells": [
  {
   "cell_type": "markdown",
   "metadata": {},
   "source": [
    "1. Antes de empezar a trabajar con la BBDD de Northwind, conozcamos un poco las BBDD que tenemos en nuestro servidor. ¿Qué BBDD tenemos en nuestro servidor?"
   ]
  },
  {
   "cell_type": "code",
   "execution_count": 1,
   "metadata": {},
   "outputs": [],
   "source": [
    "# Importamos mysql.conector para poder hacer la conexión con mysql server\n",
    "import mysql.connector"
   ]
  },
  {
   "cell_type": "code",
   "execution_count": 34,
   "metadata": {},
   "outputs": [
    {
     "name": "stdout",
     "output_type": "stream",
     "text": [
      "('creacion_tienda',)\n",
      "('information_schema',)\n",
      "('leccion-1-sql',)\n",
      "('leccion-2-sql',)\n",
      "('leccion_10_sql',)\n",
      "('leccion_11_sql',)\n",
      "('leccion_12_sql',)\n",
      "('leccion_13_sql',)\n",
      "('leccion_14_sql',)\n",
      "('leccion_3_sql',)\n",
      "('leccion_4_sql',)\n",
      "('leccion_5_sql',)\n",
      "('leccion_6_sql',)\n",
      "('leccion_7_sql',)\n",
      "('leccion_8_sql',)\n",
      "('leccion_9_sql',)\n",
      "('mysql',)\n",
      "('northwind',)\n",
      "('performance_schema',)\n",
      "('project1',)\n",
      "('sakila',)\n",
      "('spotify',)\n",
      "('tienda',)\n",
      "('tienda_zapatillas',)\n",
      "('world',)\n"
     ]
    }
   ],
   "source": [
    "# Nos conectamos a la base de datos northwind\n",
    "mydb = mysql.connector.connect(\n",
    "                  user='root', password='AlumnaAdalab',\n",
    "                  host='127.0.0.1',\n",
    "                  database='northwind')\n",
    "# iniciamos el cursor\n",
    "mycursor = mydb.cursor()\n",
    "\n",
    "# ejecutamos la query 'SHOW DATABASES' para que nos muestre todas las BBDD que tenemos en nuestro servidor y printeamos a través de un for loop.\n",
    "mycursor.execute(\"SHOW DATABASES\")\n",
    "for x in mycursor:\n",
    "  print(x)"
   ]
  },
  {
   "cell_type": "markdown",
   "metadata": {},
   "source": [
    "2. Empezemos a explorar la BBDD de Northwind. ¿Qué tablas componen la BBDD? Recuerda que primero nos tendremos que conectar con la BBDD sobre la que queremos trabajar. Guarda el resultado de los nombres de la tablas en una lista."
   ]
  },
  {
   "cell_type": "code",
   "execution_count": 13,
   "metadata": {},
   "outputs": [
    {
     "name": "stdout",
     "output_type": "stream",
     "text": [
      "('categories',)\n",
      "('customer_customer_demo',)\n",
      "('customer_demographics',)\n",
      "('customers',)\n",
      "('employee_territories',)\n",
      "('employees',)\n",
      "('order_details',)\n",
      "('orders',)\n",
      "('products',)\n",
      "('region',)\n",
      "('shippers',)\n",
      "('suppliers',)\n",
      "('territories',)\n"
     ]
    }
   ],
   "source": [
    "# Ejecutamos la query \"SHOW TABLES\" para ver las tablas de la BBDD northwind y las printeamos a través de un for loop.\n",
    "mycursor.execute(\"SHOW TABLES\")\n",
    "tablas = []\n",
    "for x in mycursor:\n",
    "  tablas.append(x) #apendamos los resultados a una tabla vacía llamada tablas para usarla en el ejercicio siguiente.\n",
    "  print(x)"
   ]
  },
  {
   "cell_type": "markdown",
   "metadata": {},
   "source": [
    "3. ¿Qué columnas tiene cada una de las tablas? Para esto tendréis que hacer un for loop para que nos saque el resultado de todas las columnas."
   ]
  },
  {
   "cell_type": "code",
   "execution_count": 30,
   "metadata": {},
   "outputs": [
    {
     "data": {
      "text/plain": [
       "'\"primera-toma-contacto \"mydb = mysql.connector.connect(\\n  host=\"localhost\",\\n  user=\"root\",\\n  password=\"AlumnaAdalab\",\\n  database=\"INFORMATION_SCHEMA\" \\n)\\nmycursor = mydb.cursor()\\n\\nmycursor.execute(\"SELECT * FROM COLUMNS WHERE TABLE_NAME = \\'categories\\'\")\\nfor x in mycursor:\\n  print(\\'Las columnas de la tabla categories son:\\', x)\\n\\nmycursor.execute(\"SELECT * FROM COLUMNS WHERE TABLE_NAME = \\'customer_customer_demo\\'\")\\nfor x in mycursor:\\n  print(\\'Las columnas de la tabla customer_customer_demo son:\\', x)\\n\\nmycursor.execute(\"SELECT * FROM COLUMNS WHERE TABLE_NAME = \\'customer_demographics\\'\")\\nfor x in mycursor:\\n  print(\\'Las columnas de la tabla customer_demographics son:\\', x)\\n\\nmycursor.execute(\"SELECT * FROM COLUMNS WHERE TABLE_NAME = \\'customers\\'\")\\nfor x in mycursor:\\n  print(\\'Las columnas de la tabla customers son:\\', x)\\n\\n\\nmycursor.execute(\"SELECT * FROM COLUMNS WHERE TABLE_NAME = \\'employee_territories\\'\")\\nfor x in mycursor:\\n  print(\\'Las columnas de la tabla customer_customer_demo son:\\', x)\\n\\n\\nmycursor.execute(\"SELECT * FROM COLUMNS WHERE TABLE_NAME = \\'employees\\'\")\\nfor x in mycursor:\\n  print(\\'Las columnas de la tabla employees son:\\', x)\\n\\n\\nmycursor.execute(\"SELECT * FROM COLUMNS WHERE TABLE_NAME = \\'order_details\\'\")\\nfor x in mycursor:\\n  print(\\'Las columnas de la tabla order_details son:\\', x)\\n\\nmycursor.execute(\"SELECT * FROM COLUMNS WHERE TABLE_NAME = \\'orders\\'\")\\nfor x in mycursor:\\n  print(\\'Las columnas de la tabla orders son:\\', x)\\n\\nmycursor.execute(\"SELECT * FROM COLUMNS WHERE TABLE_NAME = \\'products\\'\")\\nfor x in mycursor:\\n  print(\\'Las columnas de la tabla products son:\\', x)\\n\\nmycursor.execute(\"SELECT * FROM COLUMNS WHERE TABLE_NAME = \\'region\\'\")\\nfor x in mycursor:\\n  print(\\'Las columnas de la tabla region son:\\', x)\\n\\nmycursor.execute(\"SELECT * FROM COLUMNS WHERE TABLE_NAME = \\'shippers\\'\")\\nfor x in mycursor:\\n  print(\\'Las columnas de la tabla shippers son:\\', x)\\n\\nmycursor.execute(\"SELECT * FROM COLUMNS WHERE TABLE_NAME = \\'suppliers\\'\")\\nfor x in mycursor:\\n  print(\\'Las columnas de la tabla suppliers son:\\', x)\\n\\nmycursor.execute(\"SELECT * FROM COLUMNS WHERE TABLE_NAME = \\'territories\\'\")\\nfor x in mycursor:\\n  print(\\'Las columnas de la tabla territories son:\\', x) '"
      ]
     },
     "execution_count": 30,
     "metadata": {},
     "output_type": "execute_result"
    }
   ],
   "source": [
    "'''\"primera-toma-contacto \"mydb = mysql.connector.connect(\n",
    "  host=\"localhost\",\n",
    "  user=\"root\",\n",
    "  password=\"AlumnaAdalab\",\n",
    "  database=\"INFORMATION_SCHEMA\" \n",
    ")\n",
    "mycursor = mydb.cursor()\n",
    "\n",
    "mycursor.execute(\"SELECT * FROM COLUMNS WHERE TABLE_NAME = 'categories'\")\n",
    "for x in mycursor:\n",
    "  print('Las columnas de la tabla categories son:', x)\n",
    "\n",
    "mycursor.execute(\"SELECT * FROM COLUMNS WHERE TABLE_NAME = 'customer_customer_demo'\")\n",
    "for x in mycursor:\n",
    "  print('Las columnas de la tabla customer_customer_demo son:', x)\n",
    "\n",
    "mycursor.execute(\"SELECT * FROM COLUMNS WHERE TABLE_NAME = 'customer_demographics'\")\n",
    "for x in mycursor:\n",
    "  print('Las columnas de la tabla customer_demographics son:', x)\n",
    "\n",
    "mycursor.execute(\"SELECT * FROM COLUMNS WHERE TABLE_NAME = 'customers'\")\n",
    "for x in mycursor:\n",
    "  print('Las columnas de la tabla customers son:', x)\n",
    "\n",
    "\n",
    "mycursor.execute(\"SELECT * FROM COLUMNS WHERE TABLE_NAME = 'employee_territories'\")\n",
    "for x in mycursor:\n",
    "  print('Las columnas de la tabla customer_customer_demo son:', x)\n",
    "\n",
    "\n",
    "mycursor.execute(\"SELECT * FROM COLUMNS WHERE TABLE_NAME = 'employees'\")\n",
    "for x in mycursor:\n",
    "  print('Las columnas de la tabla employees son:', x)\n",
    "\n",
    "\n",
    "mycursor.execute(\"SELECT * FROM COLUMNS WHERE TABLE_NAME = 'order_details'\")\n",
    "for x in mycursor:\n",
    "  print('Las columnas de la tabla order_details son:', x)\n",
    "\n",
    "mycursor.execute(\"SELECT * FROM COLUMNS WHERE TABLE_NAME = 'orders'\")\n",
    "for x in mycursor:\n",
    "  print('Las columnas de la tabla orders son:', x)\n",
    "\n",
    "mycursor.execute(\"SELECT * FROM COLUMNS WHERE TABLE_NAME = 'products'\")\n",
    "for x in mycursor:\n",
    "  print('Las columnas de la tabla products son:', x)\n",
    "\n",
    "mycursor.execute(\"SELECT * FROM COLUMNS WHERE TABLE_NAME = 'region'\")\n",
    "for x in mycursor:\n",
    "  print('Las columnas de la tabla region son:', x)\n",
    "\n",
    "mycursor.execute(\"SELECT * FROM COLUMNS WHERE TABLE_NAME = 'shippers'\")\n",
    "for x in mycursor:\n",
    "  print('Las columnas de la tabla shippers son:', x)\n",
    "\n",
    "mycursor.execute(\"SELECT * FROM COLUMNS WHERE TABLE_NAME = 'suppliers'\")\n",
    "for x in mycursor:\n",
    "  print('Las columnas de la tabla suppliers son:', x)\n",
    "\n",
    "mycursor.execute(\"SELECT * FROM COLUMNS WHERE TABLE_NAME = 'territories'\")\n",
    "for x in mycursor:\n",
    "  print('Las columnas de la tabla territories son:', x) '''\n",
    "\n",
    " "
   ]
  },
  {
   "cell_type": "code",
   "execution_count": 40,
   "metadata": {},
   "outputs": [
    {
     "ename": "InternalError",
     "evalue": "Unread result found",
     "output_type": "error",
     "traceback": [
      "\u001b[1;31m---------------------------------------------------------------------------\u001b[0m",
      "\u001b[1;31mInternalError\u001b[0m                             Traceback (most recent call last)",
      "Cell \u001b[1;32mIn [40], line 20\u001b[0m\n\u001b[0;32m     14\u001b[0m mycursor\u001b[39m.\u001b[39mexecute(query, tabla)\n\u001b[0;32m     17\u001b[0m \u001b[39mfor\u001b[39;00m x \u001b[39min\u001b[39;00m mycursor:\n\u001b[0;32m     18\u001b[0m     \u001b[39m#print(f'Las columnas de la tabla {tabla} son {x}')\u001b[39;00m\n\u001b[1;32m---> 20\u001b[0m   mycursor\u001b[39m.\u001b[39;49mclose()\n\u001b[0;32m     21\u001b[0m   mydb\u001b[39m.\u001b[39mclose()  \n",
      "File \u001b[1;32m~\\AppData\\Local\\Packages\\PythonSoftwareFoundation.Python.3.8_qbz5n2kfra8p0\\LocalCache\\local-packages\\Python38\\site-packages\\mysql\\connector\\cursor.py:383\u001b[0m, in \u001b[0;36mMySQLCursor.close\u001b[1;34m(self)\u001b[0m\n\u001b[0;32m    380\u001b[0m \u001b[39mif\u001b[39;00m \u001b[39mself\u001b[39m\u001b[39m.\u001b[39m_connection \u001b[39mis\u001b[39;00m \u001b[39mNone\u001b[39;00m:\n\u001b[0;32m    381\u001b[0m     \u001b[39mreturn\u001b[39;00m \u001b[39mFalse\u001b[39;00m\n\u001b[1;32m--> 383\u001b[0m \u001b[39mself\u001b[39;49m\u001b[39m.\u001b[39;49m_connection\u001b[39m.\u001b[39;49mhandle_unread_result()\n\u001b[0;32m    384\u001b[0m \u001b[39mself\u001b[39m\u001b[39m.\u001b[39m_reset_result()\n\u001b[0;32m    385\u001b[0m \u001b[39mself\u001b[39m\u001b[39m.\u001b[39m_connection \u001b[39m=\u001b[39m \u001b[39mNone\u001b[39;00m\n",
      "File \u001b[1;32m~\\AppData\\Local\\Packages\\PythonSoftwareFoundation.Python.3.8_qbz5n2kfra8p0\\LocalCache\\local-packages\\Python38\\site-packages\\mysql\\connector\\connection.py:1636\u001b[0m, in \u001b[0;36mMySQLConnection.handle_unread_result\u001b[1;34m(self)\u001b[0m\n\u001b[0;32m   1634\u001b[0m     \u001b[39mself\u001b[39m\u001b[39m.\u001b[39mconsume_results()\n\u001b[0;32m   1635\u001b[0m \u001b[39melif\u001b[39;00m \u001b[39mself\u001b[39m\u001b[39m.\u001b[39munread_result:\n\u001b[1;32m-> 1636\u001b[0m     \u001b[39mraise\u001b[39;00m InternalError(\u001b[39m\"\u001b[39m\u001b[39mUnread result found\u001b[39m\u001b[39m\"\u001b[39m)\n",
      "\u001b[1;31mInternalError\u001b[0m: Unread result found"
     ]
    }
   ],
   "source": [
    "#Creemos que tiene que haber una forma automática de sacar todas las columnas:\n",
    "# Para poder ver las columnas de una tabla tenemos que conectarnos al database \"INFORMATION_SCHEMA\" \n",
    "mydb = mysql.connector.connect(\n",
    "  host=\"localhost\",\n",
    "  user=\"root\",\n",
    "  password=\"AlumnaAdalab\",\n",
    "  database=\"INFORMATION_SCHEMA\" \n",
    "  )\n",
    "\n",
    "mycursor = mydb.cursor()\n",
    "#Creamos la query de consulta para mostrar las columnas de cada tabla\n",
    "query = \"SELECT * FROM COLUMNS WHERE TABLE_NAME = %s\"\n",
    "#Iteramos por los elementos de la lista tablas que hemos creado en la consulta anterior para saber cuales son las tablas de nuestra base de datos\n",
    "# y para cada tabla iteramos por mycursor para printear las columnas\n",
    "for tabla in tablas:\n",
    "  mycursor.execute(query, tabla)\n",
    "  \n",
    "  for x in mycursor:\n",
    "      #print(f'Las columnas de la tabla {tabla} son {x}')\n",
    "        \n",
    "    mycursor.close()\n",
    "    mydb.close()  "
   ]
  },
  {
   "cell_type": "markdown",
   "metadata": {},
   "source": [
    "4. Hagamos unas queries facilitas:\n",
    "- Extraed el primer pedido donde se ha gastado más. Devolved el id del pedido y la cantidad gastada.\n",
    "- Devuelve la misma query que en el anterior ejercicio, pero en este caso devuelve todos los resultados.\n",
    "- Extraed el números de pedidos que se hayan hecho por dia. Devuelve los resultados en una dataframe.\n",
    "- Extraer los pedidos hechos por \"Nancy Daviolo\". Tendréis que hacer una subquery."
   ]
  },
  {
   "cell_type": "code",
   "execution_count": 48,
   "metadata": {},
   "outputs": [
    {
     "name": "stdout",
     "output_type": "stream",
     "text": [
      "(10865, 15810.0)\n"
     ]
    }
   ],
   "source": [
    "# Como en la consulta anterior hemos cerrado el conector y la conexión a \"INFORMATION_SCHEMA\" , volvemos a conectarnos a la base de datos northwind y a inicar el conetor\n",
    "mydb = mysql.connector.connect(\n",
    "                  user='root', password='AlumnaAdalab',\n",
    "                  host='127.0.0.1',\n",
    "                  database='northwind')\n",
    "\n",
    "mycursor = mydb.cursor()\n",
    "# Creamos nuestra query para la consulta: Extraed el primer pedido donde se ha gastado más. Devolved el id del pedido y la cantidad gastada.\n",
    "query = \"\"\"SELECT order_id, (quantity * unit_price)\n",
    "            FROM order_details\n",
    "            ORDER BY (quantity * unit_price) DESC\"\"\"\n",
    "\n",
    "mycursor.execute(query)\n",
    "#Como solo queremos el dato donde más se ha gastado usamos fecthone para imprimir solo el primer resultado\n",
    "myresult = mycursor.fetchone()\n",
    "print(myresult)"
   ]
  },
  {
   "cell_type": "code",
   "execution_count": 55,
   "metadata": {},
   "outputs": [
    {
     "name": "stdout",
     "output_type": "stream",
     "text": [
      "[(10865, 15810.0), (10981, 15810.0), (10353, 10540.0), (10417, 10540.0), (10889, 10540.0), (10424, 10329.2), (10897, 9903.2), (10372, 8432.0), (10540, 7905.0), (10816, 7905.0), (10817, 7905.0)]\n"
     ]
    }
   ],
   "source": [
    "mydb = mysql.connector.connect(\n",
    "                  user='root', password='AlumnaAdalab',\n",
    "                  host='127.0.0.1',\n",
    "                  database='northwind')\n",
    "\n",
    "mycursor = mydb.cursor()\n",
    "\n",
    "# Creamos nuestra query para la consulta: Devuelve la misma query que en el anterior ejercicio, pero en este caso devuelve todos los resultados.\n",
    "query1 = \"\"\"SELECT order_id, (quantity * unit_price)\n",
    "            FROM order_details\n",
    "            ORDER BY (quantity * unit_price) DESC\"\"\"\n",
    "\n",
    "mycursor.execute(query1)\n",
    "#Para imprimir todos los resultados usamos fetchall\n",
    "myresult1 = mycursor.fetchall()\n",
    "print(myresult1[0:11]) #Filtramos los 10 primeros para que no sea un print demasiado largo\n"
   ]
  },
  {
   "cell_type": "code",
   "execution_count": 62,
   "metadata": {},
   "outputs": [],
   "source": [
    "#importamos pandas para poder usar dataframe\n",
    "import pandas as pd"
   ]
  },
  {
   "cell_type": "code",
   "execution_count": 65,
   "metadata": {},
   "outputs": [
    {
     "name": "stdout",
     "output_type": "stream",
     "text": [
      "         Fecha  Numero de pedidos\n",
      "0   1996-07-04                  1\n",
      "1   1996-07-05                  1\n",
      "2   1996-07-08                  2\n",
      "3   1996-07-09                  1\n",
      "4   1996-07-10                  1\n",
      "..         ...                ...\n",
      "475 1998-04-30                  4\n",
      "476 1998-05-01                  3\n",
      "477 1998-05-04                  3\n",
      "478 1998-05-05                  4\n",
      "479 1998-05-06                  4\n",
      "\n",
      "[480 rows x 2 columns]\n"
     ]
    }
   ],
   "source": [
    "cnx = mysql.connector.connect(user='root', password='AlumnaAdalab',\n",
    "                              host='127.0.0.1',\n",
    "                              database='northwind')\n",
    "\n",
    "mycursor = cnx.cursor()\n",
    "\n",
    "# Creamos nuestra query para la consulta: Extraed el números de pedidos que se hayan hecho por dia.\n",
    "        # Seleccionamos la fecha y el numero de pedidos agrupado por la fecha de pedido.\n",
    "query3 = \"\"\"SELECT order_date, count(distinct order_id)\n",
    "            FROM orders\n",
    "            GROUP BY order_date\"\"\"\n",
    "\n",
    "mycursor.execute(query3)\n",
    "myresult = mycursor.fetchall()\n",
    "\n",
    "# Usamos Dataframe de panda para ver el resultado en formato tabla\n",
    "df = pd.DataFrame(myresult, columns = ['Fecha', 'Numero de pedidos'])\n",
    "print (df)\n"
   ]
  },
  {
   "cell_type": "code",
   "execution_count": 66,
   "metadata": {},
   "outputs": [
    {
     "name": "stdout",
     "output_type": "stream",
     "text": [
      "     Numero de pedido Numero de cliente\n",
      "0               10258             ERNSH\n",
      "1               10270             WARTH\n",
      "2               10275             MAGAA\n",
      "3               10285             QUICK\n",
      "4               10292             TRADH\n",
      "..                ...               ...\n",
      "118             11064             SAVEA\n",
      "119             11067             DRACD\n",
      "120             11069             TORTU\n",
      "121             11071             LILAS\n",
      "122             11077             RATTC\n",
      "\n",
      "[123 rows x 2 columns]\n"
     ]
    }
   ],
   "source": [
    "cnx = mysql.connector.connect(user='root', password='AlumnaAdalab',\n",
    "                              host='127.0.0.1',\n",
    "                              database='northwind')\n",
    "\n",
    "mycursor = cnx.cursor()\n",
    "\n",
    "# Creamos nuestra query para la consulta: Extraer los pedidos hechos por \"Nancy Daviolo\". \n",
    "        # Seleccionamos el numero depedido y de cliente filtrando en el where donde el id de empleado sea Nancy Daviolio\n",
    "query4 = \"\"\"SELECT order_id, customer_id\n",
    "            FROM orders\n",
    "            WHERE employee_id IN(\n",
    "\t\t                        SELECT first_name = 'Nancy' AND last_name = 'Davolio'\n",
    "                                FROM employees); \"\"\"\n",
    "\n",
    "mycursor.execute(query4)\n",
    "myresult = mycursor.fetchall()\n",
    "\n",
    "# Usamos Dataframe de panda para ver el resultado en formato tabla\n",
    "df1 = pd.DataFrame(myresult, columns = ['Numero de pedido', 'Numero de cliente'])\n",
    "print (df1)"
   ]
  },
  {
   "cell_type": "markdown",
   "metadata": {},
   "source": [
    "\n",
    "5. Para finalizar el ejercicio, desconectad la conexión con el servidor."
   ]
  },
  {
   "cell_type": "code",
   "execution_count": 67,
   "metadata": {},
   "outputs": [],
   "source": [
    "# Cerramos la conexión con el conector y con el servidor\n",
    "mycursor.close()\n",
    "mydb.close()  "
   ]
  }
 ],
 "metadata": {
  "kernelspec": {
   "display_name": "Python 3.8.10 64-bit (microsoft store)",
   "language": "python",
   "name": "python3"
  },
  "language_info": {
   "codemirror_mode": {
    "name": "ipython",
    "version": 3
   },
   "file_extension": ".py",
   "mimetype": "text/x-python",
   "name": "python",
   "nbconvert_exporter": "python",
   "pygments_lexer": "ipython3",
   "version": "3.8.10"
  },
  "orig_nbformat": 4,
  "vscode": {
   "interpreter": {
    "hash": "79dd3c927003417683b619f87ecd0018a9d7de8be3a2646bb47397e38116df1b"
   }
  }
 },
 "nbformat": 4,
 "nbformat_minor": 2
}
