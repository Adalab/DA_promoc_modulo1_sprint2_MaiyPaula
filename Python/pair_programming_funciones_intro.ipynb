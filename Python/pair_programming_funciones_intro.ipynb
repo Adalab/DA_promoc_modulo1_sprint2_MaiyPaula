{
 "cells": [
  {
   "cell_type": "code",
   "execution_count": null,
   "metadata": {},
   "outputs": [],
   "source": [
    "# Crear una función que reciba dos numeros enteros (str) y como resultado de la suma (str) \n",
    "# Condiciones: 1. si los dos parametros son vacios: 0      2. Si el primer parametro es un str vacio la funación nos devuelve el segundo parametro y viceversa"
   ]
  },
  {
   "cell_type": "markdown",
   "metadata": {},
   "source": [
    "Probad la función para las siguientes combinaciones de \"números\"\n",
    "\n",
    "\"4\",  \"5\" --> \"9\"\n",
    "\"34\", \"5\" --> \"39\"\n",
    "\"\", \"\" --> \"0\"\n",
    "\"2\", \"\" --> \"2\"\n",
    "\"-5\", \"3\" --> \"-2\""
   ]
  },
  {
   "cell_type": "code",
   "execution_count": 16,
   "metadata": {},
   "outputs": [],
   "source": [
    "def suma(a,b):\n",
    "    if a == \"\" and b == \"\":\n",
    "        return \"0\"\n",
    "    if a == \"\":\n",
    "        return b\n",
    "    if b == \"\":\n",
    "        return a\n",
    "    else:\n",
    "        suma = int(a) + int(b)\n",
    "        return str(suma)"
   ]
  },
  {
   "cell_type": "code",
   "execution_count": null,
   "metadata": {},
   "outputs": [],
   "source": [
    "''' INTENTO DE PRINT CON FRASE\n",
    " def suma(a,b):\n",
    "    if a == \"\" and b == \"\":\n",
    "        return print(f'La suma de {a} más {b} es {str(0)}')\n",
    "    if a == \"\":\n",
    "        return print(f'La suma de {a} más {b} es {b}')\n",
    "    if b == \"\":\n",
    "        return print(f'La suma de {a} más {b} es {str(suma)}')\n",
    "    else:\n",
    "        suma = int(a) + int(b)\n",
    "        return print(f'La suma de {a} más {b} es {str(suma)}') '''"
   ]
  },
  {
   "cell_type": "code",
   "execution_count": 17,
   "metadata": {},
   "outputs": [
    {
     "name": "stdout",
     "output_type": "stream",
     "text": [
      "9\n",
      "39\n",
      "0\n",
      "2\n",
      "-2\n"
     ]
    }
   ],
   "source": [
    "print(suma(\"4\",\"5\"))\n",
    "print(suma(\"34\",\"5\"))\n",
    "print(suma(\"\",\"\"))\n",
    "print(suma(\"2\",\"\"))\n",
    "print(suma(\"-5\",\"3\"))\n"
   ]
  },
  {
   "cell_type": "code",
   "execution_count": 19,
   "metadata": {},
   "outputs": [],
   "source": [
    "#Comparar cada par de enteros de dos listas y devolver una nueva lista con el mayor de la comparacion. PISTA: metodo zip() probad para las siguentes listas\n",
    "arr1 = [13, 64, 15, 17, 88]\n",
    "arr2 = [23, 14, 53, 17, 80]\n",
    "# resultado = [23, 64, 53, 17, 88]"
   ]
  },
  {
   "cell_type": "code",
   "execution_count": 29,
   "metadata": {},
   "outputs": [],
   "source": [
    "def comparar_listas (lista1,lista2):\n",
    "    # Definimos una lista union que une las dos listas mediante el metodo zip que crea una lista de tuplas y una lista vacia resultado\n",
    "    union = list(zip(lista1,lista2))\n",
    "    resultado = []\n",
    "    # Iteramos por las tuplas de la lista y si el indice 0 es mayor que el 1 apendeamos el indice 0 a la lista resultado y si no el indice 1.\n",
    "    for i in union:\n",
    "        if i[0] > i[1]:\n",
    "            resultado.append(i[0])\n",
    "        else:\n",
    "            resultado.append(i[1])\n",
    "        i =+ 1\n",
    "    return resultado\n"
   ]
  },
  {
   "cell_type": "code",
   "execution_count": 30,
   "metadata": {},
   "outputs": [
    {
     "data": {
      "text/plain": [
       "[23, 64, 53, 17, 88]"
      ]
     },
     "execution_count": 30,
     "metadata": {},
     "output_type": "execute_result"
    }
   ],
   "source": [
    "comparar_listas(arr1,arr2)"
   ]
  },
  {
   "cell_type": "code",
   "execution_count": null,
   "metadata": {},
   "outputs": [],
   "source": [
    "#Convertir un str en un nuevo str en el que cada caracter del nuevo es es \"(\" si ese carácter aparece sólo una vez en el string original, o \")\" si ese carácter aparece más de una vez en el string. \n",
    "# Nuestro código no tiene que ser case sensitive, es decir, si hay una letra en mayúscula y en minúscula cuenta como dos apariciones."
   ]
  },
  {
   "cell_type": "markdown",
   "metadata": {},
   "source": [
    "Probad la función para los siguientes strings \n",
    "\n",
    "\"din\"      =>  \"(((\"\n",
    "\"recede\"   =>  \"()()()\"\n",
    "\"Success\"  =>  \")())())\"\n",
    "\"(( @\"     =>  \"))((\" \n",
    "\"Ocvl@GamFLAFkixkS\" => \"((()(()()))))(()(\""
   ]
  },
  {
   "cell_type": "code",
   "execution_count": 61,
   "metadata": {},
   "outputs": [],
   "source": [
    "#Definimos la función paréntesis con el parametro palabra, la convertimos a minusculas para que la función no sea keysensitive\n",
    "def parentesis(palabra):\n",
    "    palabra = palabra.lower()\n",
    "    # Para cada letra en palabra contamos el número de veces que aparece en la palabra, si aparece una vez cambiamos la letra por con replace por \"(\" y sobreescribimos la variable palabra\n",
    "    # y si aparece más de una vez hacemos lo mismo con \")\". Luego la función devuelve palabra.\n",
    "    for letra in palabra:\n",
    "        if palabra.count(letra) == 1:\n",
    "            palabra = palabra.replace(letra, \"(\" )\n",
    "        if palabra.count(letra) > 1:\n",
    "            palabra = palabra.replace(letra, \")\" )\n",
    "    return palabra"
   ]
  },
  {
   "cell_type": "code",
   "execution_count": 62,
   "metadata": {},
   "outputs": [
    {
     "name": "stdout",
     "output_type": "stream",
     "text": [
      "(((\n",
      "()()()\n",
      ")())())\n",
      "))((\n",
      "((()(()()))))(()(\n"
     ]
    }
   ],
   "source": [
    "print (parentesis('din'))\n",
    "print (parentesis('recede'))\n",
    "print (parentesis('Success'))\n",
    "print (parentesis('(( @'))\n",
    "print (parentesis('Ocvl@GamFLAFkixkS'))\n"
   ]
  },
  {
   "cell_type": "markdown",
   "metadata": {},
   "source": [
    "# BONUS \n",
    "\n",
    "Escribid una función,  que tome la receta (diccionario) y los ingredientes disponibles (también un diccionario) y devuelva el número máximo de pasteles que Pete puede hornear (entero). Para simplificar, no hay unidades para las cantidades (por ejemplo, 1 libra de harina o 200 g de azúcar son simplemente 1 o 200). Los ingredientes que no están presentes en los diccionarios, pueden ser considerados como 0.\n",
    "\n",
    "Probad con los siguientes diccionarios:\n",
    "\n",
    "RECETA {'flour': 500, 'sugar': 200, 'eggs': 1}, \n",
    "INGREDIENTES {'flour': 1200, 'sugar': 1200, 'eggs': 5, 'milk': 200}\n",
    "\n",
    "RESULTADO: 2 \n",
    "----------\n",
    "\n",
    "RECETA {'apples': 3, 'flour': 300, 'sugar': 150, 'milk': 100, 'oil': 100}\n",
    "INGREDIENTES {'sugar': 500, 'flour': 2000, 'milk': 2000}\n",
    "\n",
    "RESULTADO 0\n",
    "``` \n",
    "**Pista**: Nuestra función recibirá dos parámetros. "
   ]
  },
  {
   "cell_type": "code",
   "execution_count": 78,
   "metadata": {},
   "outputs": [],
   "source": [
    "RECETA = {'flour': 500, 'sugar': 200, 'eggs': 1}\n",
    "INGREDIENTES = {'flour': 1200, 'sugar': 1200, 'eggs': 5, 'milk': 200}"
   ]
  },
  {
   "cell_type": "code",
   "execution_count": 94,
   "metadata": {},
   "outputs": [],
   "source": [
    "def pasteles (dic_receta, dic_ingredientes):\n",
    "    i = 0\n",
    "    lista_ingredientes = []\n",
    "    for value in dic_ingredientes.values():\n",
    "        for value2 in dic_receta.values():\n",
    "            if value/value2 > 1:\n",
    "                lista_ingredientes.append(int(value/value2))\n",
    "                i += 1\n",
    "    return min(lista_ingredientes)\n",
    "\n",
    "\n"
   ]
  },
  {
   "cell_type": "code",
   "execution_count": 88,
   "metadata": {},
   "outputs": [
    {
     "name": "stdout",
     "output_type": "stream",
     "text": [
      "dict_values([500, 200, 1])\n"
     ]
    },
    {
     "ename": "TypeError",
     "evalue": "'dict_values' object is not subscriptable",
     "output_type": "error",
     "traceback": [
      "\u001b[0;31m---------------------------------------------------------------------------\u001b[0m",
      "\u001b[0;31mTypeError\u001b[0m                                 Traceback (most recent call last)",
      "Cell \u001b[0;32mIn [88], line 3\u001b[0m\n\u001b[1;32m      1\u001b[0m receta2 \u001b[39m=\u001b[39m RECETA\u001b[39m.\u001b[39mvalues()\n\u001b[1;32m      2\u001b[0m \u001b[39mprint\u001b[39m (receta2)\n\u001b[0;32m----> 3\u001b[0m receta2 [\u001b[39m0\u001b[39;49m]\n",
      "\u001b[0;31mTypeError\u001b[0m: 'dict_values' object is not subscriptable"
     ]
    }
   ],
   "source": [
    "receta2 = RECETA.values()\n",
    "print (receta2)\n",
    "receta2 [0]"
   ]
  },
  {
   "cell_type": "code",
   "execution_count": 96,
   "metadata": {},
   "outputs": [],
   "source": [
    "RECETA2 = {'apples': 3, 'flour': 300, 'sugar': 150, 'milk': 100, 'oil': 100}\n",
    "INGREDIENTES2 = {'sugar': 500, 'flour': 2000, 'milk': 2000}"
   ]
  },
  {
   "cell_type": "code",
   "execution_count": 97,
   "metadata": {},
   "outputs": [
    {
     "data": {
      "text/plain": [
       "1"
      ]
     },
     "execution_count": 97,
     "metadata": {},
     "output_type": "execute_result"
    }
   ],
   "source": [
    "pasteles (RECETA2, INGREDIENTES2)"
   ]
  }
 ],
 "metadata": {
  "kernelspec": {
   "display_name": "Python 3.9.13 ('base')",
   "language": "python",
   "name": "python3"
  },
  "language_info": {
   "codemirror_mode": {
    "name": "ipython",
    "version": 3
   },
   "file_extension": ".py",
   "mimetype": "text/x-python",
   "name": "python",
   "nbconvert_exporter": "python",
   "pygments_lexer": "ipython3",
   "version": "3.9.13"
  },
  "orig_nbformat": 4,
  "vscode": {
   "interpreter": {
    "hash": "85c042135e83639dad74b6ec6c9d943b5dc47ca281624d931a3e14168052f53c"
   }
  }
 },
 "nbformat": 4,
 "nbformat_minor": 2
}
