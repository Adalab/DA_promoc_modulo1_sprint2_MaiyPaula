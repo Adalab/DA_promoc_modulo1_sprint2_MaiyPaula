{
 "cells": [
  {
   "cell_type": "code",
   "execution_count": null,
   "metadata": {},
   "outputs": [],
   "source": [
    "# Crear una función que reciba dos numeros enteros (str) y como resultado de la suma (str) \n",
    "# Condiciones: 1. si los dos parametros son vacios: 0      2. Si el primer parametro es un str vacio la funación nos devuelve el segundo parametro y viceversa"
   ]
  },
  {
   "cell_type": "markdown",
   "metadata": {},
   "source": [
    "Probad la función para las siguientes combinaciones de \"números\"\n",
    "\n",
    "\"4\",  \"5\" --> \"9\"\n",
    "\"34\", \"5\" --> \"39\"\n",
    "\"\", \"\" --> \"0\"\n",
    "\"2\", \"\" --> \"2\"\n",
    "\"-5\", \"3\" --> \"-2\""
   ]
  },
  {
   "cell_type": "code",
   "execution_count": 16,
   "metadata": {},
   "outputs": [],
   "source": [
    "def suma(a,b):\n",
    "    if a == \"\" and b == \"\":\n",
    "        return \"0\"\n",
    "    if a == \"\":\n",
    "        return b\n",
    "    if b == \"\":\n",
    "        return a\n",
    "    else:\n",
    "        suma = int(a) + int(b)\n",
    "        return str(suma)"
   ]
  },
  {
   "cell_type": "code",
   "execution_count": null,
   "metadata": {},
   "outputs": [],
   "source": [
    "''' INTENTO DE PRINT CON FRASE\n",
    " def suma(a,b):\n",
    "    if a == \"\" and b == \"\":\n",
    "        return print(f'La suma de {a} más {b} es {str(0)}')\n",
    "    if a == \"\":\n",
    "        return print(f'La suma de {a} más {b} es {b}')\n",
    "    if b == \"\":\n",
    "        return print(f'La suma de {a} más {b} es {str(suma)}')\n",
    "    else:\n",
    "        suma = int(a) + int(b)\n",
    "        return print(f'La suma de {a} más {b} es {str(suma)}') '''"
   ]
  },
  {
   "cell_type": "code",
   "execution_count": 17,
   "metadata": {},
   "outputs": [
    {
     "name": "stdout",
     "output_type": "stream",
     "text": [
      "9\n",
      "39\n",
      "0\n",
      "2\n",
      "-2\n"
     ]
    }
   ],
   "source": [
    "print(suma(\"4\",\"5\"))\n",
    "print(suma(\"34\",\"5\"))\n",
    "print(suma(\"\",\"\"))\n",
    "print(suma(\"2\",\"\"))\n",
    "print(suma(\"-5\",\"3\"))\n"
   ]
  },
  {
   "cell_type": "code",
   "execution_count": 19,
   "metadata": {},
   "outputs": [],
   "source": [
    "#Comparar cada par de enteros de dos listas y devolver una nueva lista con el mayor de la comparacion. PISTA: metodo zip() probad para las siguentes listas\n",
    "arr1 = [13, 64, 15, 17, 88]\n",
    "arr2 = [23, 14, 53, 17, 80]\n",
    "# resultado = [23, 64, 53, 17, 88]"
   ]
  },
  {
   "cell_type": "code",
   "execution_count": 29,
   "metadata": {},
   "outputs": [],
   "source": [
    "def comparar_listas (lista1,lista2):\n",
    "    # Definimos una lista union que une las dos listas mediante el metodo zip que crea una lista de tuplas y una lista vacia resultado\n",
    "    union = list(zip(lista1,lista2))\n",
    "    resultado = []\n",
    "    # Iteramos por las tuplas de la lista y si el indice 0 es mayor que el 1 apendeamos el indice 0 a la lista resultado y si no el indice 1.\n",
    "    for i in union:\n",
    "        if i[0] > i[1]:\n",
    "            resultado.append(i[0])\n",
    "        else:\n",
    "            resultado.append(i[1])\n",
    "        i =+ 1\n",
    "    return resultado\n"
   ]
  },
  {
   "cell_type": "code",
   "execution_count": 30,
   "metadata": {},
   "outputs": [
    {
     "data": {
      "text/plain": [
       "[23, 64, 53, 17, 88]"
      ]
     },
     "execution_count": 30,
     "metadata": {},
     "output_type": "execute_result"
    }
   ],
   "source": [
    "comparar_listas(arr1,arr2)"
   ]
  },
  {
   "cell_type": "code",
   "execution_count": null,
   "metadata": {},
   "outputs": [],
   "source": [
    "#Convertir un str en un nuevo str en el que cada caracter del nuevo es es \"(\" si ese carácter aparece sólo una vez en el string original, o \")\" si ese carácter aparece más de una vez en el string. \n",
    "# Nuestro código no tiene que ser case sensitive, es decir, si hay una letra en mayúscula y en minúscula cuenta como dos apariciones."
   ]
  },
  {
   "cell_type": "markdown",
   "metadata": {},
   "source": [
    "Probad la función para los siguientes strings \n",
    "\n",
    "\"din\"      =>  \"(((\"\n",
    "\"recede\"   =>  \"()()()\"\n",
    "\"Success\"  =>  \")())())\"\n",
    "\"(( @\"     =>  \"))((\" \n",
    "\"Ocvl@GamFLAFkixkS\" => \"((()(()()))))(()(\""
   ]
  },
  {
   "cell_type": "code",
   "execution_count": 61,
   "metadata": {},
   "outputs": [],
   "source": [
    "#Definimos la función paréntesis con el parametro palabra, la convertimos a minusculas para que la función no sea keysensitive\n",
    "def parentesis(palabra):\n",
    "    palabra = palabra.lower()\n",
    "    # Para cada letra en palabra contamos el número de veces que aparece en la palabra, si aparece una vez cambiamos la letra por con replace por \"(\" y sobreescribimos la variable palabra\n",
    "    # y si aparece más de una vez hacemos lo mismo con \")\". Luego la función devuelve palabra.\n",
    "    for letra in palabra:\n",
    "        if palabra.count(letra) == 1:\n",
    "            palabra = palabra.replace(letra, \"(\" )\n",
    "        if palabra.count(letra) > 1:\n",
    "            palabra = palabra.replace(letra, \")\" )\n",
    "    return palabra"
   ]
  },
  {
   "cell_type": "code",
   "execution_count": 62,
   "metadata": {},
   "outputs": [
    {
     "name": "stdout",
     "output_type": "stream",
     "text": [
      "(((\n",
      "()()()\n",
      ")())())\n",
      "))((\n",
      "((()(()()))))(()(\n"
     ]
    }
   ],
   "source": [
    "print (parentesis('din'))\n",
    "print (parentesis('recede'))\n",
    "print (parentesis('Success'))\n",
    "print (parentesis('(( @'))\n",
    "print (parentesis('Ocvl@GamFLAFkixkS'))\n"
   ]
  },
  {
   "cell_type": "markdown",
   "metadata": {},
   "source": [
    "# BONUS 4\n",
    "\n",
    "Escribid una función,  que tome la receta (diccionario) y los ingredientes disponibles (también un diccionario) y devuelva el número máximo de pasteles que Pete puede hornear (entero). Para simplificar, no hay unidades para las cantidades (por ejemplo, 1 libra de harina o 200 g de azúcar son simplemente 1 o 200). Los ingredientes que no están presentes en los diccionarios, pueden ser considerados como 0.\n",
    "\n",
    "Probad con los siguientes diccionarios:\n",
    "\n",
    "RECETA {'flour': 500, 'sugar': 200, 'eggs': 1}, \n",
    "INGREDIENTES {'flour': 1200, 'sugar': 1200, 'eggs': 5, 'milk': 200}\n",
    "\n",
    "RESULTADO: 2 \n",
    "----------\n",
    "\n",
    "RECETA {'apples': 3, 'flour': 300, 'sugar': 150, 'milk': 100, 'oil': 100}\n",
    "INGREDIENTES {'sugar': 500, 'flour': 2000, 'milk': 2000}\n",
    "\n",
    "RESULTADO 0\n",
    "``` \n",
    "**Pista**: Nuestra función recibirá dos parámetros. "
   ]
  },
  {
   "cell_type": "code",
   "execution_count": 78,
   "metadata": {},
   "outputs": [],
   "source": [
    "RECETA = {'flour': 500, 'sugar': 200, 'eggs': 1}\n",
    "INGREDIENTES = {'flour': 1200, 'sugar': 1200, 'eggs': 5, 'milk': 200}"
   ]
  },
  {
   "cell_type": "code",
   "execution_count": 94,
   "metadata": {},
   "outputs": [],
   "source": [
    "''' NUESTRO INTENTO \n",
    " def pasteles (dic_receta, dic_ingredientes):\n",
    "    i = 0\n",
    "    lista_ingredientes = []\n",
    "    for value in dic_ingredientes.value():\n",
    "        for  value2 in dic_receta.value():\n",
    "            if value/value2 > 1:\n",
    "                lista_ingredientes.append(int(value/value2))\n",
    "                i += 1\n",
    "    return min(lista_ingredientes)''' "
   ]
  },
  {
   "cell_type": "code",
   "execution_count": 1,
   "metadata": {},
   "outputs": [],
   "source": [
    "#Definimos pasteles como una función a la que se le darán dos diccionarios como parametros\n",
    "def pasteles (dic_receta, dic_ingredientes):\n",
    "    #Creamos una lsita vacía donde vamos a almacenar la cantidad de pasteles que podremos hacer según los ingredientes que tenemos.\n",
    "    numero_pasteles =[]\n",
    "    # Iteramos por las key del diccionario de receta, si alguna no aparece en el diccionarinario de ingredientes no podremos hacer el pastel por lo que el return es 0\n",
    "    for key in dic_receta:\n",
    "        if key not in dic_ingredientes:\n",
    "            return 0\n",
    "        #Si en el diccionario ingredientes están todas kas key del de receta dividimos la cantidad (el value) de ingredientes que tenemos para la receta y el resultado de la división entera\n",
    "        # lo almacenamos en la lista numero de pasteles\n",
    "        else: \n",
    "            numero_pasteles.append (dic_ingredientes[key] // dic_receta[key])\n",
    "        # La función debe devolver el minimo de la lista numero_pasteles que será el minimo ingrediente que tendremos para hacer el pastel.\n",
    "        return min (numero_pasteles)\n"
   ]
  },
  {
   "cell_type": "code",
   "execution_count": 6,
   "metadata": {},
   "outputs": [],
   "source": [
    "RECETA = {'flour': 500, 'sugar': 200, 'eggs': 1}\n",
    "INGREDIENTES = {'flour': 1200, 'sugar': 1200, 'eggs': 5, 'milk': 200}"
   ]
  },
  {
   "cell_type": "code",
   "execution_count": 7,
   "metadata": {},
   "outputs": [
    {
     "data": {
      "text/plain": [
       "2"
      ]
     },
     "execution_count": 7,
     "metadata": {},
     "output_type": "execute_result"
    }
   ],
   "source": [
    "pasteles (RECETA, INGREDIENTES)"
   ]
  },
  {
   "cell_type": "code",
   "execution_count": 2,
   "metadata": {},
   "outputs": [],
   "source": [
    "RECETA2 = {'apples': 3, 'flour': 300, 'sugar': 150, 'milk': 100, 'oil': 100}\n",
    "INGREDIENTES2 = {'sugar': 500, 'flour': 2000, 'milk': 2000}"
   ]
  },
  {
   "cell_type": "code",
   "execution_count": 8,
   "metadata": {},
   "outputs": [
    {
     "data": {
      "text/plain": [
       "0"
      ]
     },
     "execution_count": 8,
     "metadata": {},
     "output_type": "execute_result"
    }
   ],
   "source": [
    "pasteles (RECETA2, INGREDIENTES2)"
   ]
  },
  {
   "cell_type": "markdown",
   "metadata": {},
   "source": [
    "BONUS 5. \n",
    "Escribid una función que va a ser una calculadora. La lista recibirá dos parámetros, una lista de números y un string con la operación que queremos hacer (puede ser \"*\", \"+\")\n",
    "\n",
    "``` \n",
    "Probad con los siguientes inputs\n",
    "\n",
    "lista1 = [11, 6, 98, 1, 2] , \"*\"\n",
    "RESULTADO 12936\n",
    "\n",
    "-----------------------------------\n",
    "lista2 = [23,34, 56, 11, 90] , \"+\"\n",
    "RESULTADO 214\n",
    "\n",
    "-----------------------------------\n",
    "lista3 = [23, 4,109 , 94, 77] , \"-\"\n",
    "RESULTADO 'Lo siento, necesito que me pases una operación valida.'\n",
    "```"
   ]
  },
  {
   "cell_type": "code",
   "execution_count": 29,
   "metadata": {},
   "outputs": [],
   "source": [
    "# Definimos una calculadora para hacer el calculo con una lista de números y un operador específico, pasando con un forloop por cada número de la lista y operar según el \n",
    "# operador marcado en los if. Nos funciona pero si utilizamos return se para en la primera multiplicación del primer número de la lista, si utilizamos print, nos da el \n",
    "# resultado final y nos imprime también todos los resultados hasta llegar al resultado final.\n",
    "\n",
    "def calculadora(lista, operador):\n",
    "    resultado_multiplicacion = 1\n",
    "    resultado_suma = 0\n",
    "    for num in lista:\n",
    "        if operador == '*':\n",
    "            resultado_multiplicacion = resultado_multiplicacion * num\n",
    "            print(resultado_multiplicacion)\n",
    "        if operador == '+':\n",
    "            resultado_suma = resultado_suma + num\n",
    "            print(resultado_suma)\n",
    "\n",
    "        '''else:\n",
    "            return'Lo siento, necesito que me pases una operación valida'''"
   ]
  },
  {
   "cell_type": "code",
   "execution_count": 30,
   "metadata": {},
   "outputs": [
    {
     "name": "stdout",
     "output_type": "stream",
     "text": [
      "11\n",
      "66\n",
      "6468\n",
      "6468\n",
      "12936\n",
      "None\n"
     ]
    }
   ],
   "source": [
    "print(calculadora([11, 6, 98, 1, 2], \"*\"))"
   ]
  }
 ],
 "metadata": {
  "kernelspec": {
   "display_name": "Python 3.9.7 ('base': conda)",
   "language": "python",
   "name": "python3"
  },
  "language_info": {
   "codemirror_mode": {
    "name": "ipython",
    "version": 3
   },
   "file_extension": ".py",
   "mimetype": "text/x-python",
   "name": "python",
   "nbconvert_exporter": "python",
   "pygments_lexer": "ipython3",
   "version": "3.9.7"
  },
  "orig_nbformat": 4,
  "vscode": {
   "interpreter": {
    "hash": "819a5c43c1fad9e35c5b1180124e231b422fc24c453463d400a90e0aae1b9c8c"
   }
  }
 },
 "nbformat": 4,
 "nbformat_minor": 2
}
