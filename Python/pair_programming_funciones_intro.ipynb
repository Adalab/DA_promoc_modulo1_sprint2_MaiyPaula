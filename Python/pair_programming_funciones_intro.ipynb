{
 "cells": [
  {
   "cell_type": "code",
   "execution_count": null,
   "metadata": {},
   "outputs": [],
   "source": [
    "# Crear una función que reciba dos numeros enteros (str) y como resultado de la suma (str) \n",
    "# Condiciones: 1. si los dos parametros son vacios: 0      2. Si el primer parametro es un str vacio la funación nos devuelve el segundo parametro y viceversa"
   ]
  },
  {
   "cell_type": "markdown",
   "metadata": {},
   "source": [
    "Probad la función para las siguientes combinaciones de \"números\"\n",
    "\n",
    "\"4\",  \"5\" --> \"9\"\n",
    "\"34\", \"5\" --> \"39\"\n",
    "\"\", \"\" --> \"0\"\n",
    "\"2\", \"\" --> \"2\"\n",
    "\"-5\", \"3\" --> \"-2\""
   ]
  },
  {
   "cell_type": "code",
   "execution_count": 16,
   "metadata": {},
   "outputs": [],
   "source": [
    "def suma(a,b):\n",
    "    if a == \"\" and b == \"\":\n",
    "        return \"0\"\n",
    "    if a == \"\":\n",
    "        return b\n",
    "    if b == \"\":\n",
    "        return a\n",
    "    else:\n",
    "        suma = int(a) + int(b)\n",
    "        return str(suma)"
   ]
  },
  {
   "cell_type": "code",
   "execution_count": null,
   "metadata": {},
   "outputs": [],
   "source": [
    "''' INTENTO DE PRINT CON FRASE\n",
    " def suma(a,b):\n",
    "    if a == \"\" and b == \"\":\n",
    "        return print(f'La suma de {a} más {b} es {str(0)}')\n",
    "    if a == \"\":\n",
    "        return print(f'La suma de {a} más {b} es {b}')\n",
    "    if b == \"\":\n",
    "        return print(f'La suma de {a} más {b} es {str(suma)}')\n",
    "    else:\n",
    "        suma = int(a) + int(b)\n",
    "        return print(f'La suma de {a} más {b} es {str(suma)}') '''"
   ]
  },
  {
   "cell_type": "code",
   "execution_count": 17,
   "metadata": {},
   "outputs": [
    {
     "name": "stdout",
     "output_type": "stream",
     "text": [
      "9\n",
      "39\n",
      "0\n",
      "2\n",
      "-2\n"
     ]
    }
   ],
   "source": [
    "print(suma(\"4\",\"5\"))\n",
    "print(suma(\"34\",\"5\"))\n",
    "print(suma(\"\",\"\"))\n",
    "print(suma(\"2\",\"\"))\n",
    "print(suma(\"-5\",\"3\"))\n"
   ]
  },
  {
   "cell_type": "code",
   "execution_count": 19,
   "metadata": {},
   "outputs": [],
   "source": [
    "#Comparar cada par de enteros de dos listas y devolver una nueva lista con el mayor de la comparacion. PISTA: metodo zip() probad para las siguentes listas\n",
    "arr1 = [13, 64, 15, 17, 88]\n",
    "arr2 = [23, 14, 53, 17, 80]\n",
    "# resultado = [23, 64, 53, 17, 88]"
   ]
  },
  {
   "cell_type": "code",
   "execution_count": 29,
   "metadata": {},
   "outputs": [],
   "source": [
    "def comparar_listas (lista1,lista2):\n",
    "    # Definimos una lista union que une las dos listas mediante el metodo zip que crea una lista de tuplas y una lista vacia resultado\n",
    "    union = list(zip(lista1,lista2))\n",
    "    resultado = []\n",
    "    # Iteramos por las tuplas de la lista y si el indice 0 es mayor que el 1 apendeamos el indice 0 a la lista resultado y si no el indice 1.\n",
    "    for i in union:\n",
    "        if i[0] > i[1]:\n",
    "            resultado.append(i[0])\n",
    "        else:\n",
    "            resultado.append(i[1])\n",
    "        i =+ 1\n",
    "    return resultado\n"
   ]
  },
  {
   "cell_type": "code",
   "execution_count": 30,
   "metadata": {},
   "outputs": [
    {
     "data": {
      "text/plain": [
       "[23, 64, 53, 17, 88]"
      ]
     },
     "execution_count": 30,
     "metadata": {},
     "output_type": "execute_result"
    }
   ],
   "source": [
    "comparar_listas(arr1,arr2)"
   ]
  },
  {
   "cell_type": "code",
   "execution_count": null,
   "metadata": {},
   "outputs": [],
   "source": [
    "#Convertir un str en un nuevo str en el que cada caracter del nuevo es es \"(\" si ese carácter aparece sólo una vez en el string original, o \")\" si ese carácter aparece más de una vez en el string. \n",
    "# Nuestro código no tiene que ser case sensitive, es decir, si hay una letra en mayúscula y en minúscula cuenta como dos apariciones."
   ]
  },
  {
   "cell_type": "markdown",
   "metadata": {},
   "source": [
    "Probad la función para los siguientes strings \n",
    "\n",
    "\"din\"      =>  \"(((\"\n",
    "\"recede\"   =>  \"()()()\"\n",
    "\"Success\"  =>  \")())())\"\n",
    "\"(( @\"     =>  \"))((\" \n",
    "\"Ocvl@GamFLAFkixkS\" => \"((()(()()))))(()(\""
   ]
  },
  {
   "cell_type": "code",
   "execution_count": 10,
   "metadata": {},
   "outputs": [],
   "source": [
    "def parentesis(palabra):\n",
    "    for letra in palabra:\n",
    "        if letra in palabra:\n",
    "            palabra.replace(letra,\"(\")\n",
    "        else:\n",
    "            palabra.replace(letra,\")\")\n",
    "    return palabra"
   ]
  },
  {
   "cell_type": "code",
   "execution_count": 11,
   "metadata": {},
   "outputs": [
    {
     "data": {
      "text/plain": [
       "'recede'"
      ]
     },
     "execution_count": 11,
     "metadata": {},
     "output_type": "execute_result"
    }
   ],
   "source": [
    "parentesis(\"recede\")"
   ]
  }
 ],
 "metadata": {
  "kernelspec": {
   "display_name": "Python 3.9.13 ('base')",
   "language": "python",
   "name": "python3"
  },
  "language_info": {
   "codemirror_mode": {
    "name": "ipython",
    "version": 3
   },
   "file_extension": ".py",
   "mimetype": "text/x-python",
   "name": "python",
   "nbconvert_exporter": "python",
   "pygments_lexer": "ipython3",
   "version": "3.9.13"
  },
  "orig_nbformat": 4,
  "vscode": {
   "interpreter": {
    "hash": "85c042135e83639dad74b6ec6c9d943b5dc47ca281624d931a3e14168052f53c"
   }
  }
 },
 "nbformat": 4,
 "nbformat_minor": 2
}
